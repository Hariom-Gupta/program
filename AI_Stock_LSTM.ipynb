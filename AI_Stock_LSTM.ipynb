{
  "nbformat": 4,
  "nbformat_minor": 0,
  "metadata": {
    "colab": {
      "name": "AI Stock LSTM",
      "provenance": [],
      "collapsed_sections": [],
      "toc_visible": true,
      "include_colab_link": true
    },
    "kernelspec": {
      "name": "python3",
      "display_name": "Python 3"
    }
  },
  "cells": [
    {
      "cell_type": "markdown",
      "metadata": {
        "id": "view-in-github",
        "colab_type": "text"
      },
      "source": [
        "<a href=\"https://colab.research.google.com/github/Hariom-Gupta/program/blob/master/AI_Stock_LSTM.ipynb\" target=\"_parent\"><img src=\"https://colab.research.google.com/assets/colab-badge.svg\" alt=\"Open In Colab\"/></a>"
      ]
    },
    {
      "cell_type": "markdown",
      "metadata": {
        "id": "_qTK4Ajv3qRz",
        "colab_type": "text"
      },
      "source": [
        "In this Colab, we will use a keras Long Short-Term Memory (LSTM) model to predict the stock price of Tata Global Beverages\n"
      ]
    },
    {
      "cell_type": "markdown",
      "metadata": {
        "id": "rs-XEsB86weU",
        "colab_type": "text"
      },
      "source": [
        "Here are some imports we need to make: numpy for scientific computation, matplotlib for graphing, and pandas for manipulating data."
      ]
    },
    {
      "cell_type": "code",
      "metadata": {
        "id": "2SoQJk5BYOas",
        "colab_type": "code",
        "colab": {}
      },
      "source": [
        "import numpy as np\n",
        "import matplotlib.pyplot as plt\n",
        "import pandas as pd "
      ],
      "execution_count": 0,
      "outputs": []
    },
    {
      "cell_type": "markdown",
      "metadata": {
        "id": "BD3hdApP7gNi",
        "colab_type": "text"
      },
      "source": [
        "Load training data set with the \"Open\" and \"High\" columns to use in our modeling."
      ]
    },
    {
      "cell_type": "code",
      "metadata": {
        "id": "VU6ve06iDV5Q",
        "colab_type": "code",
        "colab": {}
      },
      "source": [
        "#url = 'https://raw.githubusercontent.com/mwitiderrick/stockprice/master/NSE-TATAGLOBAL.csv'\n",
        "url = \"/content/drive/My Drive/Colab Notebooks/INFY.csv\"\n",
        "dataset_train = pd.read_csv(url)\n",
        "training_set = dataset_train.iloc[:, 1:2].values"
      ],
      "execution_count": 0,
      "outputs": []
    },
    {
      "cell_type": "markdown",
      "metadata": {
        "id": "RsLbMJ1072EY",
        "colab_type": "text"
      },
      "source": [
        "Let's take a look at the first five rows of our dataset"
      ]
    },
    {
      "cell_type": "code",
      "metadata": {
        "id": "d56-yswzzTxF",
        "colab_type": "code",
        "outputId": "d1d52e0e-6d6f-4fa2-925e-910d6edfb343",
        "colab": {
          "base_uri": "https://localhost:8080/",
          "height": 197
        }
      },
      "source": [
        "dataset_train.head()"
      ],
      "execution_count": 71,
      "outputs": [
        {
          "output_type": "execute_result",
          "data": {
            "text/html": [
              "<div>\n",
              "<style scoped>\n",
              "    .dataframe tbody tr th:only-of-type {\n",
              "        vertical-align: middle;\n",
              "    }\n",
              "\n",
              "    .dataframe tbody tr th {\n",
              "        vertical-align: top;\n",
              "    }\n",
              "\n",
              "    .dataframe thead th {\n",
              "        text-align: right;\n",
              "    }\n",
              "</style>\n",
              "<table border=\"1\" class=\"dataframe\">\n",
              "  <thead>\n",
              "    <tr style=\"text-align: right;\">\n",
              "      <th></th>\n",
              "      <th>Date</th>\n",
              "      <th>Open</th>\n",
              "      <th>High</th>\n",
              "      <th>Low</th>\n",
              "      <th>Close</th>\n",
              "      <th>Volume</th>\n",
              "    </tr>\n",
              "  </thead>\n",
              "  <tbody>\n",
              "    <tr>\n",
              "      <th>0</th>\n",
              "      <td>2/12/2008</td>\n",
              "      <td>153.000000</td>\n",
              "      <td>153.000000</td>\n",
              "      <td>147.125000</td>\n",
              "      <td>151.044006</td>\n",
              "      <td>12814328</td>\n",
              "    </tr>\n",
              "    <tr>\n",
              "      <th>1</th>\n",
              "      <td>3/12/2008</td>\n",
              "      <td>150.500000</td>\n",
              "      <td>152.750000</td>\n",
              "      <td>142.500000</td>\n",
              "      <td>144.569000</td>\n",
              "      <td>17869336</td>\n",
              "    </tr>\n",
              "    <tr>\n",
              "      <th>2</th>\n",
              "      <td>4/12/2008</td>\n",
              "      <td>145.000000</td>\n",
              "      <td>149.744003</td>\n",
              "      <td>143.544006</td>\n",
              "      <td>149.050003</td>\n",
              "      <td>11324040</td>\n",
              "    </tr>\n",
              "    <tr>\n",
              "      <th>3</th>\n",
              "      <td>5/12/2008</td>\n",
              "      <td>149.000000</td>\n",
              "      <td>149.000000</td>\n",
              "      <td>140.324997</td>\n",
              "      <td>141.811996</td>\n",
              "      <td>12210128</td>\n",
              "    </tr>\n",
              "    <tr>\n",
              "      <th>4</th>\n",
              "      <td>8/12/2008</td>\n",
              "      <td>144.399994</td>\n",
              "      <td>148.750000</td>\n",
              "      <td>142.261993</td>\n",
              "      <td>144.718994</td>\n",
              "      <td>23661144</td>\n",
              "    </tr>\n",
              "  </tbody>\n",
              "</table>\n",
              "</div>"
            ],
            "text/plain": [
              "        Date        Open        High         Low       Close    Volume\n",
              "0  2/12/2008  153.000000  153.000000  147.125000  151.044006  12814328\n",
              "1  3/12/2008  150.500000  152.750000  142.500000  144.569000  17869336\n",
              "2  4/12/2008  145.000000  149.744003  143.544006  149.050003  11324040\n",
              "3  5/12/2008  149.000000  149.000000  140.324997  141.811996  12210128\n",
              "4  8/12/2008  144.399994  148.750000  142.261993  144.718994  23661144"
            ]
          },
          "metadata": {
            "tags": []
          },
          "execution_count": 71
        }
      ]
    },
    {
      "cell_type": "markdown",
      "metadata": {
        "id": "ii6nZaDI7-20",
        "colab_type": "text"
      },
      "source": [
        "Import MinMaxScaler from scikit-learn to scale our dataset into numbers between 0 and 1 "
      ]
    },
    {
      "cell_type": "code",
      "metadata": {
        "id": "Ub32hsA4MIXz",
        "colab_type": "code",
        "colab": {}
      },
      "source": [
        "from sklearn.preprocessing import MinMaxScaler\n",
        "sc = MinMaxScaler(feature_range=(0,1))\n",
        "training_set_scaled = sc.fit_transform(training_set)"
      ],
      "execution_count": 0,
      "outputs": []
    },
    {
      "cell_type": "markdown",
      "metadata": {
        "id": "aqze-4Is8Rb_",
        "colab_type": "text"
      },
      "source": [
        "We want our data to be in the form of a 3D array for our LSTM model. First, we create data in 60 timesteps and convert it into an array using NumPy. Then, we convert the data into a 3D array with X_train samples, 60 timestamps, and one feature at each step."
      ]
    },
    {
      "cell_type": "code",
      "metadata": {
        "id": "qo7K06T2Mi_e",
        "colab_type": "code",
        "colab": {}
      },
      "source": [
        "X_train = []\n",
        "y_train = []\n",
        "for i in range(60, 2035):\n",
        "    X_train.append(training_set_scaled[i-60:i, 0])\n",
        "    y_train.append(training_set_scaled[i, 0])\n",
        "X_train, y_train = np.array(X_train), np.array(y_train)\n",
        "\n",
        "X_train = np.reshape(X_train, (X_train.shape[0], X_train.shape[1], 1))"
      ],
      "execution_count": 0,
      "outputs": []
    },
    {
      "cell_type": "markdown",
      "metadata": {
        "id": "anIlTzKO-r74",
        "colab_type": "text"
      },
      "source": [
        "Make the necessary imports from keras"
      ]
    },
    {
      "cell_type": "code",
      "metadata": {
        "id": "TP9GVtb9Q-C9",
        "colab_type": "code",
        "colab": {}
      },
      "source": [
        "from keras.models import Sequential\n",
        "from keras.layers import LSTM\n",
        "from keras.layers import Dropout\n",
        "from keras.layers import Dense "
      ],
      "execution_count": 0,
      "outputs": []
    },
    {
      "cell_type": "markdown",
      "metadata": {
        "id": "hJrFWnOd-x2t",
        "colab_type": "text"
      },
      "source": [
        "Add LSTM layer along with dropout layers to prevent overfitting. After that, we add a Dense layer that specifies a one unit output. Next, we compile the model using the adam optimizer and set the loss as the mean_squarred_error"
      ]
    },
    {
      "cell_type": "code",
      "metadata": {
        "id": "CMKVOwBnRcOc",
        "colab_type": "code",
        "outputId": "28507876-9d5f-47c0-caa9-b39413112555",
        "colab": {
          "base_uri": "https://localhost:8080/",
          "height": 1000
        }
      },
      "source": [
        "model = Sequential()\n",
        "\n",
        "model.add(LSTM(units=50,return_sequences=True,input_shape=(X_train.shape[1], 1)))\n",
        "model.add(Dropout(0.2))\n",
        "\n",
        "model.add(LSTM(units=50,return_sequences=True))\n",
        "model.add(Dropout(0.2))\n",
        "\n",
        "model.add(LSTM(units=50,return_sequences=True))\n",
        "model.add(Dropout(0.2))\n",
        "\n",
        "model.add(LSTM(units=50))\n",
        "model.add(Dropout(0.2))\n",
        "\n",
        "model.add(Dense(units=1))\n",
        "\n",
        "model.compile(optimizer='adam',loss='mean_squared_error')\n",
        "\n",
        "model.fit(X_train,y_train,epochs=100,batch_size=32)"
      ],
      "execution_count": 75,
      "outputs": [
        {
          "output_type": "stream",
          "text": [
            "Epoch 1/100\n",
            "1975/1975 [==============================] - 11s 5ms/step - loss: 0.0296\n",
            "Epoch 2/100\n",
            "1975/1975 [==============================] - 9s 5ms/step - loss: 0.0059\n",
            "Epoch 3/100\n",
            "1975/1975 [==============================] - 9s 5ms/step - loss: 0.0058\n",
            "Epoch 4/100\n",
            "1975/1975 [==============================] - 14s 7ms/step - loss: 0.0050\n",
            "Epoch 5/100\n",
            "1975/1975 [==============================] - 9s 5ms/step - loss: 0.0050\n",
            "Epoch 6/100\n",
            "1975/1975 [==============================] - 10s 5ms/step - loss: 0.0056\n",
            "Epoch 7/100\n",
            "1975/1975 [==============================] - 9s 5ms/step - loss: 0.0050\n",
            "Epoch 8/100\n",
            "1975/1975 [==============================] - 9s 5ms/step - loss: 0.0044\n",
            "Epoch 9/100\n",
            "1975/1975 [==============================] - 9s 5ms/step - loss: 0.0043\n",
            "Epoch 10/100\n",
            "1975/1975 [==============================] - 9s 5ms/step - loss: 0.0037\n",
            "Epoch 11/100\n",
            "1975/1975 [==============================] - 9s 5ms/step - loss: 0.0040\n",
            "Epoch 12/100\n",
            "1975/1975 [==============================] - 9s 5ms/step - loss: 0.0038\n",
            "Epoch 13/100\n",
            "1975/1975 [==============================] - 9s 5ms/step - loss: 0.0035\n",
            "Epoch 14/100\n",
            "1975/1975 [==============================] - 9s 5ms/step - loss: 0.0036\n",
            "Epoch 15/100\n",
            "1975/1975 [==============================] - 9s 5ms/step - loss: 0.0033\n",
            "Epoch 16/100\n",
            "1975/1975 [==============================] - 9s 5ms/step - loss: 0.0039\n",
            "Epoch 17/100\n",
            "1975/1975 [==============================] - 9s 5ms/step - loss: 0.0031\n",
            "Epoch 18/100\n",
            "1975/1975 [==============================] - 9s 5ms/step - loss: 0.0031\n",
            "Epoch 19/100\n",
            "1975/1975 [==============================] - 9s 5ms/step - loss: 0.0030\n",
            "Epoch 20/100\n",
            "1975/1975 [==============================] - 9s 5ms/step - loss: 0.0033\n",
            "Epoch 21/100\n",
            "1975/1975 [==============================] - 9s 5ms/step - loss: 0.0027\n",
            "Epoch 22/100\n",
            "1975/1975 [==============================] - 9s 5ms/step - loss: 0.0030\n",
            "Epoch 23/100\n",
            "1975/1975 [==============================] - 9s 5ms/step - loss: 0.0029\n",
            "Epoch 24/100\n",
            "1975/1975 [==============================] - 9s 5ms/step - loss: 0.0029\n",
            "Epoch 25/100\n",
            "1975/1975 [==============================] - 9s 5ms/step - loss: 0.0025\n",
            "Epoch 26/100\n",
            "1975/1975 [==============================] - 9s 5ms/step - loss: 0.0027\n",
            "Epoch 27/100\n",
            "1975/1975 [==============================] - 9s 5ms/step - loss: 0.0028\n",
            "Epoch 28/100\n",
            "1975/1975 [==============================] - 9s 5ms/step - loss: 0.0025\n",
            "Epoch 29/100\n",
            "1975/1975 [==============================] - 9s 5ms/step - loss: 0.0025\n",
            "Epoch 30/100\n",
            "1975/1975 [==============================] - 9s 5ms/step - loss: 0.0024\n",
            "Epoch 31/100\n",
            "1975/1975 [==============================] - 9s 5ms/step - loss: 0.0025\n",
            "Epoch 32/100\n",
            "1975/1975 [==============================] - 9s 5ms/step - loss: 0.0022\n",
            "Epoch 33/100\n",
            "1975/1975 [==============================] - 9s 5ms/step - loss: 0.0022\n",
            "Epoch 34/100\n",
            "1975/1975 [==============================] - 9s 5ms/step - loss: 0.0022\n",
            "Epoch 35/100\n",
            "1975/1975 [==============================] - 9s 5ms/step - loss: 0.0022\n",
            "Epoch 36/100\n",
            "1975/1975 [==============================] - 9s 5ms/step - loss: 0.0023\n",
            "Epoch 37/100\n",
            "1975/1975 [==============================] - 9s 5ms/step - loss: 0.0021\n",
            "Epoch 38/100\n",
            "1975/1975 [==============================] - 9s 5ms/step - loss: 0.0021\n",
            "Epoch 39/100\n",
            "1975/1975 [==============================] - 9s 5ms/step - loss: 0.0019\n",
            "Epoch 40/100\n",
            "1975/1975 [==============================] - 9s 5ms/step - loss: 0.0019\n",
            "Epoch 41/100\n",
            "1975/1975 [==============================] - 9s 5ms/step - loss: 0.0018\n",
            "Epoch 42/100\n",
            "1975/1975 [==============================] - 9s 5ms/step - loss: 0.0020\n",
            "Epoch 43/100\n",
            "1975/1975 [==============================] - 9s 5ms/step - loss: 0.0019\n",
            "Epoch 44/100\n",
            "1975/1975 [==============================] - 9s 5ms/step - loss: 0.0019\n",
            "Epoch 45/100\n",
            "1975/1975 [==============================] - 9s 5ms/step - loss: 0.0018\n",
            "Epoch 46/100\n",
            "1975/1975 [==============================] - 9s 5ms/step - loss: 0.0018\n",
            "Epoch 47/100\n",
            "1975/1975 [==============================] - 9s 5ms/step - loss: 0.0018\n",
            "Epoch 48/100\n",
            "1975/1975 [==============================] - 9s 5ms/step - loss: 0.0017\n",
            "Epoch 49/100\n",
            "1975/1975 [==============================] - 9s 5ms/step - loss: 0.0017\n",
            "Epoch 50/100\n",
            "1975/1975 [==============================] - 9s 5ms/step - loss: 0.0018\n",
            "Epoch 51/100\n",
            "1975/1975 [==============================] - 9s 5ms/step - loss: 0.0016\n",
            "Epoch 52/100\n",
            "1975/1975 [==============================] - 9s 5ms/step - loss: 0.0016\n",
            "Epoch 53/100\n",
            "1975/1975 [==============================] - 9s 5ms/step - loss: 0.0016\n",
            "Epoch 54/100\n",
            "1975/1975 [==============================] - 9s 5ms/step - loss: 0.0017\n",
            "Epoch 55/100\n",
            "1975/1975 [==============================] - 9s 5ms/step - loss: 0.0014\n",
            "Epoch 56/100\n",
            "1975/1975 [==============================] - 9s 5ms/step - loss: 0.0016\n",
            "Epoch 57/100\n",
            "1975/1975 [==============================] - 9s 5ms/step - loss: 0.0015\n",
            "Epoch 58/100\n",
            "1975/1975 [==============================] - 9s 5ms/step - loss: 0.0015\n",
            "Epoch 59/100\n",
            "1975/1975 [==============================] - 9s 5ms/step - loss: 0.0016\n",
            "Epoch 60/100\n",
            "1975/1975 [==============================] - 9s 5ms/step - loss: 0.0015\n",
            "Epoch 61/100\n",
            "1975/1975 [==============================] - 9s 5ms/step - loss: 0.0014\n",
            "Epoch 62/100\n",
            "1975/1975 [==============================] - 9s 5ms/step - loss: 0.0015\n",
            "Epoch 63/100\n",
            "1975/1975 [==============================] - 9s 5ms/step - loss: 0.0014\n",
            "Epoch 64/100\n",
            "1975/1975 [==============================] - 9s 5ms/step - loss: 0.0014\n",
            "Epoch 65/100\n",
            "1975/1975 [==============================] - 9s 5ms/step - loss: 0.0014\n",
            "Epoch 66/100\n",
            "1975/1975 [==============================] - 9s 5ms/step - loss: 0.0015\n",
            "Epoch 67/100\n",
            "1975/1975 [==============================] - 9s 5ms/step - loss: 0.0014\n",
            "Epoch 68/100\n",
            "1975/1975 [==============================] - 9s 5ms/step - loss: 0.0014\n",
            "Epoch 69/100\n",
            "1975/1975 [==============================] - 9s 5ms/step - loss: 0.0014\n",
            "Epoch 70/100\n",
            "1975/1975 [==============================] - 9s 5ms/step - loss: 0.0013\n",
            "Epoch 71/100\n",
            "1975/1975 [==============================] - 9s 5ms/step - loss: 0.0013\n",
            "Epoch 72/100\n",
            "1975/1975 [==============================] - 9s 5ms/step - loss: 0.0014\n",
            "Epoch 73/100\n",
            "1975/1975 [==============================] - 9s 5ms/step - loss: 0.0013\n",
            "Epoch 74/100\n",
            "1975/1975 [==============================] - 9s 5ms/step - loss: 0.0013\n",
            "Epoch 75/100\n",
            "1975/1975 [==============================] - 9s 5ms/step - loss: 0.0013\n",
            "Epoch 76/100\n",
            "1975/1975 [==============================] - 9s 5ms/step - loss: 0.0012\n",
            "Epoch 77/100\n",
            "1975/1975 [==============================] - 9s 5ms/step - loss: 0.0012\n",
            "Epoch 78/100\n",
            "1975/1975 [==============================] - 9s 5ms/step - loss: 0.0013\n",
            "Epoch 79/100\n",
            "1975/1975 [==============================] - 9s 5ms/step - loss: 0.0012\n",
            "Epoch 80/100\n",
            "1975/1975 [==============================] - 9s 5ms/step - loss: 0.0014\n",
            "Epoch 81/100\n",
            "1975/1975 [==============================] - 9s 5ms/step - loss: 0.0012\n",
            "Epoch 82/100\n",
            "1975/1975 [==============================] - 9s 5ms/step - loss: 0.0013\n",
            "Epoch 83/100\n",
            "1975/1975 [==============================] - 9s 5ms/step - loss: 0.0012\n",
            "Epoch 84/100\n",
            "1975/1975 [==============================] - 9s 5ms/step - loss: 0.0012\n",
            "Epoch 85/100\n",
            "1975/1975 [==============================] - 9s 5ms/step - loss: 0.0012\n",
            "Epoch 86/100\n",
            "1975/1975 [==============================] - 9s 5ms/step - loss: 0.0011\n",
            "Epoch 87/100\n",
            "1975/1975 [==============================] - 9s 5ms/step - loss: 0.0012\n",
            "Epoch 88/100\n",
            "1975/1975 [==============================] - 9s 5ms/step - loss: 0.0011\n",
            "Epoch 89/100\n",
            "1975/1975 [==============================] - 9s 5ms/step - loss: 0.0011\n",
            "Epoch 90/100\n",
            "1975/1975 [==============================] - 9s 5ms/step - loss: 0.0012\n",
            "Epoch 91/100\n",
            "1975/1975 [==============================] - 9s 5ms/step - loss: 0.0010\n",
            "Epoch 92/100\n",
            "1975/1975 [==============================] - 9s 5ms/step - loss: 0.0011\n",
            "Epoch 93/100\n",
            "1975/1975 [==============================] - 9s 5ms/step - loss: 0.0012\n",
            "Epoch 94/100\n",
            "1975/1975 [==============================] - 9s 5ms/step - loss: 0.0011\n",
            "Epoch 95/100\n",
            "1975/1975 [==============================] - 9s 5ms/step - loss: 0.0011\n",
            "Epoch 96/100\n",
            "1975/1975 [==============================] - 9s 5ms/step - loss: 0.0011\n",
            "Epoch 97/100\n",
            "1975/1975 [==============================] - 9s 5ms/step - loss: 0.0012\n",
            "Epoch 98/100\n",
            "1975/1975 [==============================] - 9s 5ms/step - loss: 0.0012\n",
            "Epoch 99/100\n",
            "1975/1975 [==============================] - 9s 5ms/step - loss: 0.0011\n",
            "Epoch 100/100\n",
            "1975/1975 [==============================] - 9s 5ms/step - loss: 0.0011\n"
          ],
          "name": "stdout"
        },
        {
          "output_type": "execute_result",
          "data": {
            "text/plain": [
              "<keras.callbacks.callbacks.History at 0x7f1c84a40f60>"
            ]
          },
          "metadata": {
            "tags": []
          },
          "execution_count": 75
        }
      ]
    },
    {
      "cell_type": "code",
      "metadata": {
        "id": "Ceot6y-dd58B",
        "colab_type": "code",
        "outputId": "ac799a43-c7ca-423f-dfc4-78f0773bf9d8",
        "colab": {
          "base_uri": "https://localhost:8080/",
          "height": 125
        }
      },
      "source": [
        "from google.colab import drive\n",
        "drive.mount('/content/drive')"
      ],
      "execution_count": 0,
      "outputs": [
        {
          "output_type": "stream",
          "text": [
            "Go to this URL in a browser: https://accounts.google.com/o/oauth2/auth?client_id=947318989803-6bn6qk8qdgf4n4g3pfee6491hc0brc4i.apps.googleusercontent.com&redirect_uri=urn%3aietf%3awg%3aoauth%3a2.0%3aoob&response_type=code&scope=email%20https%3a%2f%2fwww.googleapis.com%2fauth%2fdocs.test%20https%3a%2f%2fwww.googleapis.com%2fauth%2fdrive%20https%3a%2f%2fwww.googleapis.com%2fauth%2fdrive.photos.readonly%20https%3a%2f%2fwww.googleapis.com%2fauth%2fpeopleapi.readonly\n",
            "\n",
            "Enter your authorization code:\n",
            "··········\n",
            "Mounted at /content/drive\n"
          ],
          "name": "stdout"
        }
      ]
    },
    {
      "cell_type": "markdown",
      "metadata": {
        "id": "N7_w_7x-A44v",
        "colab_type": "text"
      },
      "source": [
        "Import the test set for the model to make predictions on "
      ]
    },
    {
      "cell_type": "code",
      "metadata": {
        "id": "ns2TngWrUaz5",
        "colab_type": "code",
        "colab": {}
      },
      "source": [
        "#url = 'https://raw.githubusercontent.com/mwitiderrick/stockprice/master/tatatest.csv'\n",
        "url = \"/content/drive/My Drive/Colab Notebooks/test.csv\"\n",
        "dataset_test = pd.read_csv(url)\n",
        "\n",
        "real_stock_price = dataset_test.iloc[:, 1:2].values"
      ],
      "execution_count": 0,
      "outputs": []
    },
    {
      "cell_type": "markdown",
      "metadata": {
        "id": "WXGKvoo6BAyd",
        "colab_type": "text"
      },
      "source": [
        "Before predicting future stock prices, we have to manipulate the training set; we merge the training set and the test set on the 0 axis, set the time step to 60, use minmaxscaler, and reshape the dataset as done previously. After making predictions, we use inverse_transform to get back the stock prices in normal readable format.\n"
      ]
    },
    {
      "cell_type": "code",
      "metadata": {
        "id": "SXcfDWpozpRj",
        "colab_type": "code",
        "outputId": "26617046-2938-431b-f2fa-afb526ba90cc",
        "colab": {
          "base_uri": "https://localhost:8080/",
          "height": 197
        }
      },
      "source": [
        "dataset_test.head()"
      ],
      "execution_count": 77,
      "outputs": [
        {
          "output_type": "execute_result",
          "data": {
            "text/html": [
              "<div>\n",
              "<style scoped>\n",
              "    .dataframe tbody tr th:only-of-type {\n",
              "        vertical-align: middle;\n",
              "    }\n",
              "\n",
              "    .dataframe tbody tr th {\n",
              "        vertical-align: top;\n",
              "    }\n",
              "\n",
              "    .dataframe thead th {\n",
              "        text-align: right;\n",
              "    }\n",
              "</style>\n",
              "<table border=\"1\" class=\"dataframe\">\n",
              "  <thead>\n",
              "    <tr style=\"text-align: right;\">\n",
              "      <th></th>\n",
              "      <th>Date</th>\n",
              "      <th>Open</th>\n",
              "      <th>High</th>\n",
              "      <th>Low</th>\n",
              "      <th>Close</th>\n",
              "      <th>Volume</th>\n",
              "    </tr>\n",
              "  </thead>\n",
              "  <tbody>\n",
              "    <tr>\n",
              "      <th>0</th>\n",
              "      <td>13-12-2019</td>\n",
              "      <td>700.349976</td>\n",
              "      <td>712.900024</td>\n",
              "      <td>700.349976</td>\n",
              "      <td>711.299988</td>\n",
              "      <td>10302412</td>\n",
              "    </tr>\n",
              "    <tr>\n",
              "      <th>1</th>\n",
              "      <td>16-12-2019</td>\n",
              "      <td>712.299988</td>\n",
              "      <td>720.200012</td>\n",
              "      <td>710.200012</td>\n",
              "      <td>714.000000</td>\n",
              "      <td>5616324</td>\n",
              "    </tr>\n",
              "    <tr>\n",
              "      <th>2</th>\n",
              "      <td>17-12-2019</td>\n",
              "      <td>719.700012</td>\n",
              "      <td>731.250000</td>\n",
              "      <td>715.000000</td>\n",
              "      <td>729.700012</td>\n",
              "      <td>10525565</td>\n",
              "    </tr>\n",
              "    <tr>\n",
              "      <th>3</th>\n",
              "      <td>18-12-2019</td>\n",
              "      <td>731.000000</td>\n",
              "      <td>737.299988</td>\n",
              "      <td>722.750000</td>\n",
              "      <td>732.450012</td>\n",
              "      <td>12215295</td>\n",
              "    </tr>\n",
              "    <tr>\n",
              "      <th>4</th>\n",
              "      <td>19-12-2019</td>\n",
              "      <td>733.500000</td>\n",
              "      <td>735.950012</td>\n",
              "      <td>724.599976</td>\n",
              "      <td>730.849976</td>\n",
              "      <td>7199210</td>\n",
              "    </tr>\n",
              "  </tbody>\n",
              "</table>\n",
              "</div>"
            ],
            "text/plain": [
              "         Date        Open        High         Low       Close    Volume\n",
              "0  13-12-2019  700.349976  712.900024  700.349976  711.299988  10302412\n",
              "1  16-12-2019  712.299988  720.200012  710.200012  714.000000   5616324\n",
              "2  17-12-2019  719.700012  731.250000  715.000000  729.700012  10525565\n",
              "3  18-12-2019  731.000000  737.299988  722.750000  732.450012  12215295\n",
              "4  19-12-2019  733.500000  735.950012  724.599976  730.849976   7199210"
            ]
          },
          "metadata": {
            "tags": []
          },
          "execution_count": 77
        }
      ]
    },
    {
      "cell_type": "code",
      "metadata": {
        "id": "pBbdst_BV_PB",
        "colab_type": "code",
        "outputId": "0933929a-7d91-484b-e135-615fdce0fbb0",
        "colab": {
          "base_uri": "https://localhost:8080/",
          "height": 34
        }
      },
      "source": [
        "dataset_total = pd.concat((dataset_train['Open'], dataset_test['Open']), axis = 0)\n",
        "inputs = dataset_total[len(dataset_total) - len(dataset_test) - 60:].values\n",
        "inputs = inputs.reshape(-1,1)\n",
        "inputs = sc.transform(inputs)\n",
        "X_test = []\n",
        "for i in range(60, 76):\n",
        "    X_test.append(inputs[i-60:i, 0])\n",
        "X_test = np.array(X_test)\n",
        "X_test = np.reshape(X_test, (X_test.shape[0], X_test.shape[1], 1))\n",
        "predicted_stock_price = model.predict(X_test)\n",
        "predicted_stock_price = sc.inverse_transform(predicted_stock_price)\n",
        "print('Done', inputs.size,X_test.size)"
      ],
      "execution_count": 78,
      "outputs": [
        {
          "output_type": "stream",
          "text": [
            "Done 158 960\n"
          ],
          "name": "stdout"
        }
      ]
    },
    {
      "cell_type": "code",
      "metadata": {
        "id": "LW5IRcRT-Xkp",
        "colab_type": "code",
        "colab": {}
      },
      "source": [
        ""
      ],
      "execution_count": 0,
      "outputs": []
    },
    {
      "cell_type": "markdown",
      "metadata": {
        "id": "BAj_a3n0B3nz",
        "colab_type": "text"
      },
      "source": [
        "Plot our predicted stock prices and the actual stock price"
      ]
    },
    {
      "cell_type": "code",
      "metadata": {
        "id": "czWvnIANYSqI",
        "colab_type": "code",
        "outputId": "4e7c53cd-e1c0-47ed-8b13-e3607a51a117",
        "colab": {
          "base_uri": "https://localhost:8080/",
          "height": 294
        }
      },
      "source": [
        "plt.plot(real_stock_price, color = 'black', label = 'Infy Stock Price')\n",
        "plt.plot(predicted_stock_price, color = 'green', label = 'Predicted Infy Stock Price')\n",
        "plt.title('INFY Stock Price Prediction')\n",
        "plt.xlabel('Time')\n",
        "plt.ylabel('INFY Stock Price')\n",
        "plt.legend()\n",
        "plt.show()"
      ],
      "execution_count": 79,
      "outputs": [
        {
          "output_type": "display_data",
          "data": {
            "image/png": "[encoded data removed]",
            "text/plain": [
              "<Figure size 432x288 with 1 Axes>"
            ]
          },
          "metadata": {
            "tags": [],
            "needs_background": "light"
          }
        }
      ]
    }
  ]
}
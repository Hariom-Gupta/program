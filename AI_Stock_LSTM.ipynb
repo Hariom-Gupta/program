{
  "nbformat": 4,
  "nbformat_minor": 0,
  "metadata": {
    "colab": {
      "name": "AI Stock LSTM",
      "provenance": [],
      "collapsed_sections": [],
      "include_colab_link": true
    },
    "kernelspec": {
      "name": "python3",
      "display_name": "Python 3"
    }
  },
  "cells": [
    {
      "cell_type": "markdown",
      "metadata": {
        "id": "view-in-github",
        "colab_type": "text"
      },
      "source": [
        "<a href=\"https://colab.research.google.com/github/Hariom-Gupta/program/blob/master/AI_Stock_LSTM.ipynb\" target=\"_parent\"><img src=\"https://colab.research.google.com/assets/colab-badge.svg\" alt=\"Open In Colab\"/></a>"
      ]
    },
    {
      "cell_type": "markdown",
      "metadata": {
        "id": "_qTK4Ajv3qRz",
        "colab_type": "text"
      },
      "source": [
        "In this Colab, we will use a keras Long Short-Term Memory (LSTM) model to predict the stock price of Tata Global Beverages\n"
      ]
    },
    {
      "cell_type": "markdown",
      "metadata": {
        "id": "rs-XEsB86weU",
        "colab_type": "text"
      },
      "source": [
        "Here are some imports we need to make: numpy for scientific computation, matplotlib for graphing, and pandas for manipulating data."
      ]
    },
    {
      "cell_type": "code",
      "metadata": {
        "id": "2SoQJk5BYOas",
        "colab_type": "code",
        "colab": {}
      },
      "source": [
        "import numpy as np\n",
        "import matplotlib.pyplot as plt\n",
        "import pandas as pd "
      ],
      "execution_count": 0,
      "outputs": []
    },
    {
      "cell_type": "markdown",
      "metadata": {
        "id": "BD3hdApP7gNi",
        "colab_type": "text"
      },
      "source": [
        "Load training data set with the \"Open\" and \"High\" columns to use in our modeling."
      ]
    },
    {
      "cell_type": "code",
      "metadata": {
        "id": "VU6ve06iDV5Q",
        "colab_type": "code",
        "colab": {}
      },
      "source": [
        "#url = 'https://raw.githubusercontent.com/mwitiderrick/stockprice/master/NSE-TATAGLOBAL.csv'\n",
        "url = \"/content/drive/My Drive/Colab Notebooks/ML_Testing/data_lstm.csv\"\n",
        "dataset_train = pd.read_csv(url)\n",
        "training_set = dataset_train.iloc[:, 1:2].values"
      ],
      "execution_count": 0,
      "outputs": []
    },
    {
      "cell_type": "markdown",
      "metadata": {
        "id": "RsLbMJ1072EY",
        "colab_type": "text"
      },
      "source": [
        "Let's take a look at the first five rows of our dataset"
      ]
    },
    {
      "cell_type": "code",
      "metadata": {
        "id": "d56-yswzzTxF",
        "colab_type": "code",
        "outputId": "b8371181-cb1a-482e-ee21-de516a19c92e",
        "colab": {
          "base_uri": "https://localhost:8080/",
          "height": 204
        }
      },
      "source": [
        "dataset_train.head()"
      ],
      "execution_count": 0,
      "outputs": [
        {
          "output_type": "execute_result",
          "data": {
            "text/html": [
              "<div>\n",
              "<style scoped>\n",
              "    .dataframe tbody tr th:only-of-type {\n",
              "        vertical-align: middle;\n",
              "    }\n",
              "\n",
              "    .dataframe tbody tr th {\n",
              "        vertical-align: top;\n",
              "    }\n",
              "\n",
              "    .dataframe thead th {\n",
              "        text-align: right;\n",
              "    }\n",
              "</style>\n",
              "<table border=\"1\" class=\"dataframe\">\n",
              "  <thead>\n",
              "    <tr style=\"text-align: right;\">\n",
              "      <th></th>\n",
              "      <th>Date</th>\n",
              "      <th>Open</th>\n",
              "      <th>High</th>\n",
              "      <th>Low</th>\n",
              "      <th>Close</th>\n",
              "    </tr>\n",
              "  </thead>\n",
              "  <tbody>\n",
              "    <tr>\n",
              "      <th>0</th>\n",
              "      <td>12/26/2018</td>\n",
              "      <td>325.70</td>\n",
              "      <td>327.30</td>\n",
              "      <td>319.35</td>\n",
              "      <td>326.15</td>\n",
              "    </tr>\n",
              "    <tr>\n",
              "      <th>1</th>\n",
              "      <td>12/24/2018</td>\n",
              "      <td>322.70</td>\n",
              "      <td>330.50</td>\n",
              "      <td>321.40</td>\n",
              "      <td>326.70</td>\n",
              "    </tr>\n",
              "    <tr>\n",
              "      <th>2</th>\n",
              "      <td>12/21/2018</td>\n",
              "      <td>333.20</td>\n",
              "      <td>334.80</td>\n",
              "      <td>320.75</td>\n",
              "      <td>322.10</td>\n",
              "    </tr>\n",
              "    <tr>\n",
              "      <th>3</th>\n",
              "      <td>12/20/2018</td>\n",
              "      <td>336.25</td>\n",
              "      <td>340.00</td>\n",
              "      <td>332.35</td>\n",
              "      <td>333.25</td>\n",
              "    </tr>\n",
              "    <tr>\n",
              "      <th>4</th>\n",
              "      <td>12/19/2018</td>\n",
              "      <td>335.05</td>\n",
              "      <td>342.25</td>\n",
              "      <td>331.40</td>\n",
              "      <td>340.70</td>\n",
              "    </tr>\n",
              "  </tbody>\n",
              "</table>\n",
              "</div>"
            ],
            "text/plain": [
              "         Date    Open    High     Low   Close\n",
              "0  12/26/2018  325.70  327.30  319.35  326.15\n",
              "1  12/24/2018  322.70  330.50  321.40  326.70\n",
              "2  12/21/2018  333.20  334.80  320.75  322.10\n",
              "3  12/20/2018  336.25  340.00  332.35  333.25\n",
              "4  12/19/2018  335.05  342.25  331.40  340.70"
            ]
          },
          "metadata": {
            "tags": []
          },
          "execution_count": 19
        }
      ]
    },
    {
      "cell_type": "markdown",
      "metadata": {
        "id": "ii6nZaDI7-20",
        "colab_type": "text"
      },
      "source": [
        "Import MinMaxScaler from scikit-learn to scale our dataset into numbers between 0 and 1 "
      ]
    },
    {
      "cell_type": "code",
      "metadata": {
        "id": "Ub32hsA4MIXz",
        "colab_type": "code",
        "colab": {}
      },
      "source": [
        "from sklearn.preprocessing import MinMaxScaler\n",
        "sc = MinMaxScaler(feature_range=(0,1))\n",
        "training_set_scaled = sc.fit_transform(training_set)"
      ],
      "execution_count": 0,
      "outputs": []
    },
    {
      "cell_type": "markdown",
      "metadata": {
        "id": "aqze-4Is8Rb_",
        "colab_type": "text"
      },
      "source": [
        "We want our data to be in the form of a 3D array for our LSTM model. First, we create data in 60 timesteps and convert it into an array using NumPy. Then, we convert the data into a 3D array with X_train samples, 60 timestamps, and one feature at each step."
      ]
    },
    {
      "cell_type": "code",
      "metadata": {
        "id": "qo7K06T2Mi_e",
        "colab_type": "code",
        "colab": {}
      },
      "source": [
        "X_train = []\n",
        "y_train = []\n",
        "for i in range(60, 927):\n",
        "    X_train.append(training_set_scaled[i-60:i, 0])\n",
        "    y_train.append(training_set_scaled[i, 0])\n",
        "X_train, y_train = np.array(X_train), np.array(y_train)\n",
        "\n",
        "X_train = np.reshape(X_train, (X_train.shape[0], X_train.shape[1], 1))"
      ],
      "execution_count": 0,
      "outputs": []
    },
    {
      "cell_type": "markdown",
      "metadata": {
        "id": "anIlTzKO-r74",
        "colab_type": "text"
      },
      "source": [
        "Make the necessary imports from keras"
      ]
    },
    {
      "cell_type": "code",
      "metadata": {
        "id": "TP9GVtb9Q-C9",
        "colab_type": "code",
        "colab": {
          "base_uri": "https://localhost:8080/",
          "height": 34
        },
        "outputId": "2f1c06d0-0bb3-44b7-de7a-39a505f474b7"
      },
      "source": [
        "from keras.models import Sequential\n",
        "from keras.layers import LSTM\n",
        "from keras.layers import Dropout\n",
        "from keras.layers import Dense "
      ],
      "execution_count": 7,
      "outputs": [
        {
          "output_type": "stream",
          "text": [
            "Using TensorFlow backend.\n"
          ],
          "name": "stderr"
        }
      ]
    },
    {
      "cell_type": "markdown",
      "metadata": {
        "id": "hJrFWnOd-x2t",
        "colab_type": "text"
      },
      "source": [
        "Add LSTM layer along with dropout layers to prevent overfitting. After that, we add a Dense layer that specifies a one unit output. Next, we compile the model using the adam optimizer and set the loss as the mean_squarred_error"
      ]
    },
    {
      "cell_type": "code",
      "metadata": {
        "id": "CMKVOwBnRcOc",
        "colab_type": "code",
        "outputId": "676a41b5-0bc6-466e-adb3-c185809a54a5",
        "colab": {
          "base_uri": "https://localhost:8080/",
          "height": 1000
        }
      },
      "source": [
        "model = Sequential()\n",
        "\n",
        "model.add(LSTM(units=50,return_sequences=True,input_shape=(X_train.shape[1], 1)))\n",
        "model.add(Dropout(0.2))\n",
        "\n",
        "model.add(LSTM(units=50,return_sequences=True))\n",
        "model.add(Dropout(0.2))\n",
        "\n",
        "model.add(LSTM(units=50,return_sequences=True))\n",
        "model.add(Dropout(0.2))\n",
        "\n",
        "model.add(LSTM(units=50))\n",
        "model.add(Dropout(0.2))\n",
        "\n",
        "model.add(Dense(units=1))\n",
        "\n",
        "model.compile(optimizer='adam',loss='mean_squared_error')\n",
        "\n",
        "model.fit(X_train,y_train,epochs=100,batch_size=32)"
      ],
      "execution_count": 8,
      "outputs": [
        {
          "output_type": "stream",
          "text": [
            "Epoch 1/100\n",
            "867/867 [==============================] - 7s 8ms/step - loss: 0.0552\n",
            "Epoch 2/100\n",
            "867/867 [==============================] - 4s 5ms/step - loss: 0.0125\n",
            "Epoch 3/100\n",
            "867/867 [==============================] - 4s 5ms/step - loss: 0.0112\n",
            "Epoch 4/100\n",
            "867/867 [==============================] - 4s 5ms/step - loss: 0.0127\n",
            "Epoch 5/100\n",
            "867/867 [==============================] - 4s 5ms/step - loss: 0.0099\n",
            "Epoch 6/100\n",
            "867/867 [==============================] - 5s 5ms/step - loss: 0.0102\n",
            "Epoch 7/100\n",
            "867/867 [==============================] - 5s 5ms/step - loss: 0.0091\n",
            "Epoch 8/100\n",
            "867/867 [==============================] - 4s 5ms/step - loss: 0.0094\n",
            "Epoch 9/100\n",
            "867/867 [==============================] - 4s 5ms/step - loss: 0.0083\n",
            "Epoch 10/100\n",
            "867/867 [==============================] - 4s 5ms/step - loss: 0.0082\n",
            "Epoch 11/100\n",
            "867/867 [==============================] - 4s 5ms/step - loss: 0.0079\n",
            "Epoch 12/100\n",
            "867/867 [==============================] - 4s 5ms/step - loss: 0.0071\n",
            "Epoch 13/100\n",
            "867/867 [==============================] - 4s 5ms/step - loss: 0.0078\n",
            "Epoch 14/100\n",
            "867/867 [==============================] - 4s 5ms/step - loss: 0.0072\n",
            "Epoch 15/100\n",
            "867/867 [==============================] - 4s 5ms/step - loss: 0.0063\n",
            "Epoch 16/100\n",
            "867/867 [==============================] - 4s 5ms/step - loss: 0.0098\n",
            "Epoch 17/100\n",
            "867/867 [==============================] - 5s 6ms/step - loss: 0.0069\n",
            "Epoch 18/100\n",
            "867/867 [==============================] - 5s 6ms/step - loss: 0.0057\n",
            "Epoch 19/100\n",
            "867/867 [==============================] - 5s 5ms/step - loss: 0.0055\n",
            "Epoch 20/100\n",
            "867/867 [==============================] - 4s 5ms/step - loss: 0.0056\n",
            "Epoch 21/100\n",
            "867/867 [==============================] - 4s 5ms/step - loss: 0.0052\n",
            "Epoch 22/100\n",
            "867/867 [==============================] - 4s 5ms/step - loss: 0.0053\n",
            "Epoch 23/100\n",
            "867/867 [==============================] - 5s 5ms/step - loss: 0.0052\n",
            "Epoch 24/100\n",
            "867/867 [==============================] - 4s 5ms/step - loss: 0.0054\n",
            "Epoch 25/100\n",
            "867/867 [==============================] - 4s 5ms/step - loss: 0.0044\n",
            "Epoch 26/100\n",
            "867/867 [==============================] - 4s 5ms/step - loss: 0.0051\n",
            "Epoch 27/100\n",
            "867/867 [==============================] - 4s 5ms/step - loss: 0.0052\n",
            "Epoch 28/100\n",
            "867/867 [==============================] - 4s 5ms/step - loss: 0.0047\n",
            "Epoch 29/100\n",
            "867/867 [==============================] - 4s 5ms/step - loss: 0.0046\n",
            "Epoch 30/100\n",
            "867/867 [==============================] - 4s 5ms/step - loss: 0.0047\n",
            "Epoch 31/100\n",
            "867/867 [==============================] - 4s 5ms/step - loss: 0.0048\n",
            "Epoch 32/100\n",
            "867/867 [==============================] - 4s 5ms/step - loss: 0.0040\n",
            "Epoch 33/100\n",
            "867/867 [==============================] - 4s 5ms/step - loss: 0.0048\n",
            "Epoch 34/100\n",
            "867/867 [==============================] - 4s 5ms/step - loss: 0.0043\n",
            "Epoch 35/100\n",
            "867/867 [==============================] - 4s 5ms/step - loss: 0.0039\n",
            "Epoch 36/100\n",
            "867/867 [==============================] - 4s 5ms/step - loss: 0.0043\n",
            "Epoch 37/100\n",
            "867/867 [==============================] - 4s 5ms/step - loss: 0.0044\n",
            "Epoch 38/100\n",
            "867/867 [==============================] - 4s 5ms/step - loss: 0.0042\n",
            "Epoch 39/100\n",
            "867/867 [==============================] - 4s 5ms/step - loss: 0.0040\n",
            "Epoch 40/100\n",
            "867/867 [==============================] - 4s 5ms/step - loss: 0.0038\n",
            "Epoch 41/100\n",
            "867/867 [==============================] - 4s 5ms/step - loss: 0.0040\n",
            "Epoch 42/100\n",
            "867/867 [==============================] - 4s 5ms/step - loss: 0.0034\n",
            "Epoch 43/100\n",
            "867/867 [==============================] - 4s 5ms/step - loss: 0.0040\n",
            "Epoch 44/100\n",
            "867/867 [==============================] - 4s 5ms/step - loss: 0.0035\n",
            "Epoch 45/100\n",
            "867/867 [==============================] - 4s 5ms/step - loss: 0.0039\n",
            "Epoch 46/100\n",
            "867/867 [==============================] - 4s 5ms/step - loss: 0.0038\n",
            "Epoch 47/100\n",
            "867/867 [==============================] - 4s 5ms/step - loss: 0.0036\n",
            "Epoch 48/100\n",
            "867/867 [==============================] - 4s 5ms/step - loss: 0.0037\n",
            "Epoch 49/100\n",
            "867/867 [==============================] - 4s 5ms/step - loss: 0.0037\n",
            "Epoch 50/100\n",
            "867/867 [==============================] - 4s 5ms/step - loss: 0.0035\n",
            "Epoch 51/100\n",
            "867/867 [==============================] - 4s 5ms/step - loss: 0.0031\n",
            "Epoch 52/100\n",
            "867/867 [==============================] - 4s 5ms/step - loss: 0.0033\n",
            "Epoch 53/100\n",
            "867/867 [==============================] - 4s 5ms/step - loss: 0.0034\n",
            "Epoch 54/100\n",
            "867/867 [==============================] - 4s 5ms/step - loss: 0.0034\n",
            "Epoch 55/100\n",
            "867/867 [==============================] - 4s 5ms/step - loss: 0.0036\n",
            "Epoch 56/100\n",
            "867/867 [==============================] - 4s 5ms/step - loss: 0.0029\n",
            "Epoch 57/100\n",
            "867/867 [==============================] - 4s 5ms/step - loss: 0.0028\n",
            "Epoch 58/100\n",
            "867/867 [==============================] - 4s 5ms/step - loss: 0.0033\n",
            "Epoch 59/100\n",
            "867/867 [==============================] - 4s 5ms/step - loss: 0.0032\n",
            "Epoch 60/100\n",
            "867/867 [==============================] - 4s 5ms/step - loss: 0.0029\n",
            "Epoch 61/100\n",
            "867/867 [==============================] - 4s 5ms/step - loss: 0.0033\n",
            "Epoch 62/100\n",
            "867/867 [==============================] - 4s 5ms/step - loss: 0.0034\n",
            "Epoch 63/100\n",
            "867/867 [==============================] - 4s 5ms/step - loss: 0.0029\n",
            "Epoch 64/100\n",
            "867/867 [==============================] - 4s 5ms/step - loss: 0.0030\n",
            "Epoch 65/100\n",
            "867/867 [==============================] - 5s 6ms/step - loss: 0.0031\n",
            "Epoch 66/100\n",
            "867/867 [==============================] - 4s 5ms/step - loss: 0.0028\n",
            "Epoch 67/100\n",
            "867/867 [==============================] - 4s 5ms/step - loss: 0.0032\n",
            "Epoch 68/100\n",
            "867/867 [==============================] - 5s 5ms/step - loss: 0.0029\n",
            "Epoch 69/100\n",
            "867/867 [==============================] - 5s 5ms/step - loss: 0.0028\n",
            "Epoch 70/100\n",
            "867/867 [==============================] - 4s 5ms/step - loss: 0.0030\n",
            "Epoch 71/100\n",
            "867/867 [==============================] - 4s 5ms/step - loss: 0.0029\n",
            "Epoch 72/100\n",
            "867/867 [==============================] - 4s 5ms/step - loss: 0.0025\n",
            "Epoch 73/100\n",
            "867/867 [==============================] - 4s 5ms/step - loss: 0.0027\n",
            "Epoch 74/100\n",
            "867/867 [==============================] - 4s 5ms/step - loss: 0.0024\n",
            "Epoch 75/100\n",
            "867/867 [==============================] - 4s 5ms/step - loss: 0.0026\n",
            "Epoch 76/100\n",
            "867/867 [==============================] - 4s 5ms/step - loss: 0.0025\n",
            "Epoch 77/100\n",
            "867/867 [==============================] - 4s 5ms/step - loss: 0.0024\n",
            "Epoch 78/100\n",
            "867/867 [==============================] - 4s 5ms/step - loss: 0.0025\n",
            "Epoch 79/100\n",
            "867/867 [==============================] - 4s 5ms/step - loss: 0.0025\n",
            "Epoch 80/100\n",
            "867/867 [==============================] - 4s 5ms/step - loss: 0.0026\n",
            "Epoch 81/100\n",
            "867/867 [==============================] - 4s 5ms/step - loss: 0.0026\n",
            "Epoch 82/100\n",
            "867/867 [==============================] - 4s 5ms/step - loss: 0.0028\n",
            "Epoch 83/100\n",
            "867/867 [==============================] - 4s 5ms/step - loss: 0.0028\n",
            "Epoch 84/100\n",
            "867/867 [==============================] - 5s 5ms/step - loss: 0.0026\n",
            "Epoch 85/100\n",
            "867/867 [==============================] - 5s 5ms/step - loss: 0.0026\n",
            "Epoch 86/100\n",
            "867/867 [==============================] - 4s 5ms/step - loss: 0.0024\n",
            "Epoch 87/100\n",
            "867/867 [==============================] - 4s 5ms/step - loss: 0.0024\n",
            "Epoch 88/100\n",
            "867/867 [==============================] - 5s 6ms/step - loss: 0.0025\n",
            "Epoch 89/100\n",
            "867/867 [==============================] - 6s 6ms/step - loss: 0.0023\n",
            "Epoch 90/100\n",
            "867/867 [==============================] - 5s 5ms/step - loss: 0.0031\n",
            "Epoch 91/100\n",
            "867/867 [==============================] - 5s 5ms/step - loss: 0.0023\n",
            "Epoch 92/100\n",
            "867/867 [==============================] - 4s 5ms/step - loss: 0.0023\n",
            "Epoch 93/100\n",
            "867/867 [==============================] - 5s 5ms/step - loss: 0.0025\n",
            "Epoch 94/100\n",
            "867/867 [==============================] - 5s 5ms/step - loss: 0.0023\n",
            "Epoch 95/100\n",
            "867/867 [==============================] - 5s 5ms/step - loss: 0.0024\n",
            "Epoch 96/100\n",
            "867/867 [==============================] - 4s 5ms/step - loss: 0.0023\n",
            "Epoch 97/100\n",
            "867/867 [==============================] - 5s 6ms/step - loss: 0.0024\n",
            "Epoch 98/100\n",
            "867/867 [==============================] - 5s 5ms/step - loss: 0.0026\n",
            "Epoch 99/100\n",
            "867/867 [==============================] - 4s 5ms/step - loss: 0.0024\n",
            "Epoch 100/100\n",
            "867/867 [==============================] - 4s 5ms/step - loss: 0.0021\n"
          ],
          "name": "stdout"
        },
        {
          "output_type": "execute_result",
          "data": {
            "text/plain": [
              "<keras.callbacks.callbacks.History at 0x7f6f0d243cc0>"
            ]
          },
          "metadata": {
            "tags": []
          },
          "execution_count": 8
        }
      ]
    },
    {
      "cell_type": "markdown",
      "metadata": {
        "id": "N7_w_7x-A44v",
        "colab_type": "text"
      },
      "source": [
        "Import the test set for the model to make predictions on "
      ]
    },
    {
      "cell_type": "code",
      "metadata": {
        "id": "ns2TngWrUaz5",
        "colab_type": "code",
        "colab": {}
      },
      "source": [
        "#url = 'https://raw.githubusercontent.com/mwitiderrick/stockprice/master/tatatest.csv'\n",
        "url = \"/content/drive/My Drive/Colab Notebooks/ML_Testing/test_lstm.csv\"\n",
        "dataset_test = pd.read_csv(url)\n",
        "\n",
        "real_stock_price = dataset_test.iloc[:, 1:2].values"
      ],
      "execution_count": 0,
      "outputs": []
    },
    {
      "cell_type": "markdown",
      "metadata": {
        "id": "WXGKvoo6BAyd",
        "colab_type": "text"
      },
      "source": [
        "Before predicting future stock prices, we have to manipulate the training set; we merge the training set and the test set on the 0 axis, set the time step to 60, use minmaxscaler, and reshape the dataset as done previously. After making predictions, we use inverse_transform to get back the stock prices in normal readable format.\n"
      ]
    },
    {
      "cell_type": "code",
      "metadata": {
        "id": "SXcfDWpozpRj",
        "colab_type": "code",
        "outputId": "ebfd31bc-be89-44e3-c7ae-7f40968d12bf",
        "colab": {
          "base_uri": "https://localhost:8080/",
          "height": 204
        }
      },
      "source": [
        "dataset_test.head()"
      ],
      "execution_count": 10,
      "outputs": [
        {
          "output_type": "execute_result",
          "data": {
            "text/html": [
              "<div>\n",
              "<style scoped>\n",
              "    .dataframe tbody tr th:only-of-type {\n",
              "        vertical-align: middle;\n",
              "    }\n",
              "\n",
              "    .dataframe tbody tr th {\n",
              "        vertical-align: top;\n",
              "    }\n",
              "\n",
              "    .dataframe thead th {\n",
              "        text-align: right;\n",
              "    }\n",
              "</style>\n",
              "<table border=\"1\" class=\"dataframe\">\n",
              "  <thead>\n",
              "    <tr style=\"text-align: right;\">\n",
              "      <th></th>\n",
              "      <th>Date</th>\n",
              "      <th>Open</th>\n",
              "      <th>High</th>\n",
              "      <th>Low</th>\n",
              "      <th>Close</th>\n",
              "    </tr>\n",
              "  </thead>\n",
              "  <tbody>\n",
              "    <tr>\n",
              "      <th>0</th>\n",
              "      <td>12/31/2019</td>\n",
              "      <td>247.70</td>\n",
              "      <td>248.60</td>\n",
              "      <td>245.30</td>\n",
              "      <td>245.80</td>\n",
              "    </tr>\n",
              "    <tr>\n",
              "      <th>1</th>\n",
              "      <td>12/30/2019</td>\n",
              "      <td>248.45</td>\n",
              "      <td>249.55</td>\n",
              "      <td>246.60</td>\n",
              "      <td>248.95</td>\n",
              "    </tr>\n",
              "    <tr>\n",
              "      <th>2</th>\n",
              "      <td>12/27/2019</td>\n",
              "      <td>250.00</td>\n",
              "      <td>250.75</td>\n",
              "      <td>246.35</td>\n",
              "      <td>247.55</td>\n",
              "    </tr>\n",
              "    <tr>\n",
              "      <th>3</th>\n",
              "      <td>12/26/2019</td>\n",
              "      <td>252.00</td>\n",
              "      <td>252.40</td>\n",
              "      <td>249.55</td>\n",
              "      <td>250.30</td>\n",
              "    </tr>\n",
              "    <tr>\n",
              "      <th>4</th>\n",
              "      <td>12/24/2019</td>\n",
              "      <td>253.00</td>\n",
              "      <td>253.95</td>\n",
              "      <td>251.10</td>\n",
              "      <td>252.25</td>\n",
              "    </tr>\n",
              "  </tbody>\n",
              "</table>\n",
              "</div>"
            ],
            "text/plain": [
              "         Date    Open    High     Low   Close\n",
              "0  12/31/2019  247.70  248.60  245.30  245.80\n",
              "1  12/30/2019  248.45  249.55  246.60  248.95\n",
              "2  12/27/2019  250.00  250.75  246.35  247.55\n",
              "3  12/26/2019  252.00  252.40  249.55  250.30\n",
              "4  12/24/2019  253.00  253.95  251.10  252.25"
            ]
          },
          "metadata": {
            "tags": []
          },
          "execution_count": 10
        }
      ]
    },
    {
      "cell_type": "code",
      "metadata": {
        "id": "pBbdst_BV_PB",
        "colab_type": "code",
        "outputId": "746d282d-0bec-4801-ad13-9ebefba5f3f3",
        "colab": {
          "base_uri": "https://localhost:8080/",
          "height": 34
        }
      },
      "source": [
        "dataset_total = pd.concat((dataset_train['Open'], dataset_test['Open']), axis = 0)\n",
        "inputs = dataset_total[len(dataset_total) - len(dataset_test) - 60:].values\n",
        "inputs = inputs.reshape(-1,1)\n",
        "inputs = sc.transform(inputs)\n",
        "X_test = []\n",
        "for i in range(60, 308):\n",
        "    X_test.append(inputs[i-60:i, 0])\n",
        "X_test = np.array(X_test)\n",
        "X_test = np.reshape(X_test, (X_test.shape[0], X_test.shape[1], 1))\n",
        "predicted_stock_price = model.predict(X_test)\n",
        "predicted_stock_price = sc.inverse_transform(predicted_stock_price)\n",
        "print('Done', inputs.size,X_test.size)"
      ],
      "execution_count": 11,
      "outputs": [
        {
          "output_type": "stream",
          "text": [
            "Done 309 14880\n"
          ],
          "name": "stdout"
        }
      ]
    },
    {
      "cell_type": "markdown",
      "metadata": {
        "id": "BAj_a3n0B3nz",
        "colab_type": "text"
      },
      "source": [
        "Plot our predicted stock prices and the actual stock price"
      ]
    },
    {
      "cell_type": "code",
      "metadata": {
        "id": "czWvnIANYSqI",
        "colab_type": "code",
        "outputId": "c5b95501-ef5e-4d63-9d7a-28bb1e0cb7c6",
        "colab": {
          "base_uri": "https://localhost:8080/",
          "height": 295
        }
      },
      "source": [
        "plt.plot(real_stock_price, color = 'black', label = 'Wipro Stock Price')\n",
        "plt.plot(predicted_stock_price, color = 'green', label = 'Predicted Wipro Stock Price')\n",
        "plt.title('Wipro Stock Price Prediction')\n",
        "plt.xlabel('Time')\n",
        "plt.ylabel('Wipro Stock Price')\n",
        "plt.legend()\n",
        "plt.show()"
      ],
      "execution_count": 13,
      "outputs": [
        {
          "output_type": "display_data",
          "data": {
            "image/png": "[encoded data removed]",
            "text/plain": [
              "<Figure size 432x288 with 1 Axes>"
            ]
          },
          "metadata": {
            "tags": [],
            "needs_background": "light"
          }
        }
      ]
    }
  ]
}
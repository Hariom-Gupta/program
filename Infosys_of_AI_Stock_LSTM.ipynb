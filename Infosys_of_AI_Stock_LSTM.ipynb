{
  "nbformat": 4,
  "nbformat_minor": 0,
  "metadata": {
    "colab": {
      "name": "Infosys of AI Stock LSTM",
      "provenance": [],
      "collapsed_sections": [],
      "include_colab_link": true
    },
    "kernelspec": {
      "name": "python3",
      "display_name": "Python 3"
    }
  },
  "cells": [
    {
      "cell_type": "markdown",
      "metadata": {
        "id": "view-in-github",
        "colab_type": "text"
      },
      "source": [
        "<a href=\"https://colab.research.google.com/github/Hariom-Gupta/program/blob/master/Infosys_of_AI_Stock_LSTM.ipynb\" target=\"_parent\"><img src=\"https://colab.research.google.com/assets/colab-badge.svg\" alt=\"Open In Colab\"/></a>"
      ]
    },
    {
      "cell_type": "markdown",
      "metadata": {
        "id": "_qTK4Ajv3qRz",
        "colab_type": "text"
      },
      "source": [
        "In this Colab, we will use a keras Long Short-Term Memory (LSTM) model to predict the stock price of Tata Global Beverages\n"
      ]
    },
    {
      "cell_type": "markdown",
      "metadata": {
        "id": "rs-XEsB86weU",
        "colab_type": "text"
      },
      "source": [
        "Here are some imports we need to make: numpy for scientific computation, matplotlib for graphing, and pandas for manipulating data."
      ]
    },
    {
      "cell_type": "code",
      "metadata": {
        "id": "2SoQJk5BYOas",
        "colab_type": "code",
        "colab": {}
      },
      "source": [
        "import numpy as np\n",
        "import matplotlib.pyplot as plt\n",
        "import pandas as pd "
      ],
      "execution_count": 0,
      "outputs": []
    },
    {
      "cell_type": "markdown",
      "metadata": {
        "id": "BD3hdApP7gNi",
        "colab_type": "text"
      },
      "source": [
        "Load training data set with the \"Open\" and \"High\" columns to use in our modeling."
      ]
    },
    {
      "cell_type": "code",
      "metadata": {
        "id": "VU6ve06iDV5Q",
        "colab_type": "code",
        "colab": {}
      },
      "source": [
        "#url = 'https://raw.githubusercontent.com/mwitiderrick/stockprice/master/NSE-TATAGLOBAL.csv'\n",
        "url = \"/content/drive/My Drive/Colab Notebooks/ML_Testing/infosys_data.csv\"\n",
        "dataset_train = pd.read_csv(url)\n",
        "training_set = dataset_train.iloc[:, 1:2].values"
      ],
      "execution_count": 0,
      "outputs": []
    },
    {
      "cell_type": "markdown",
      "metadata": {
        "id": "RsLbMJ1072EY",
        "colab_type": "text"
      },
      "source": [
        "Let's take a look at the first five rows of our dataset"
      ]
    },
    {
      "cell_type": "code",
      "metadata": {
        "id": "d56-yswzzTxF",
        "colab_type": "code",
        "outputId": "9588d3e7-58c0-448f-f3e5-1ab9041fde40",
        "colab": {
          "base_uri": "https://localhost:8080/",
          "height": 204
        }
      },
      "source": [
        "dataset_train.head()"
      ],
      "execution_count": 4,
      "outputs": [
        {
          "output_type": "execute_result",
          "data": {
            "text/html": [
              "<div>\n",
              "<style scoped>\n",
              "    .dataframe tbody tr th:only-of-type {\n",
              "        vertical-align: middle;\n",
              "    }\n",
              "\n",
              "    .dataframe tbody tr th {\n",
              "        vertical-align: top;\n",
              "    }\n",
              "\n",
              "    .dataframe thead th {\n",
              "        text-align: right;\n",
              "    }\n",
              "</style>\n",
              "<table border=\"1\" class=\"dataframe\">\n",
              "  <thead>\n",
              "    <tr style=\"text-align: right;\">\n",
              "      <th></th>\n",
              "      <th>Date</th>\n",
              "      <th>Open</th>\n",
              "      <th>High</th>\n",
              "      <th>Low</th>\n",
              "      <th>Close</th>\n",
              "    </tr>\n",
              "  </thead>\n",
              "  <tbody>\n",
              "    <tr>\n",
              "      <th>0</th>\n",
              "      <td>12/26/2018</td>\n",
              "      <td>652.75</td>\n",
              "      <td>663.25</td>\n",
              "      <td>649.00</td>\n",
              "      <td>656.80</td>\n",
              "    </tr>\n",
              "    <tr>\n",
              "      <th>1</th>\n",
              "      <td>12/24/2018</td>\n",
              "      <td>647.00</td>\n",
              "      <td>647.00</td>\n",
              "      <td>637.35</td>\n",
              "      <td>644.05</td>\n",
              "    </tr>\n",
              "    <tr>\n",
              "      <th>2</th>\n",
              "      <td>12/21/2018</td>\n",
              "      <td>657.00</td>\n",
              "      <td>658.80</td>\n",
              "      <td>647.60</td>\n",
              "      <td>649.00</td>\n",
              "    </tr>\n",
              "    <tr>\n",
              "      <th>3</th>\n",
              "      <td>12/20/2018</td>\n",
              "      <td>659.50</td>\n",
              "      <td>659.50</td>\n",
              "      <td>643.45</td>\n",
              "      <td>646.20</td>\n",
              "    </tr>\n",
              "    <tr>\n",
              "      <th>4</th>\n",
              "      <td>12/19/2018</td>\n",
              "      <td>660.00</td>\n",
              "      <td>671.55</td>\n",
              "      <td>656.40</td>\n",
              "      <td>667.05</td>\n",
              "    </tr>\n",
              "  </tbody>\n",
              "</table>\n",
              "</div>"
            ],
            "text/plain": [
              "         Date    Open    High     Low   Close\n",
              "0  12/26/2018  652.75  663.25  649.00  656.80\n",
              "1  12/24/2018  647.00  647.00  637.35  644.05\n",
              "2  12/21/2018  657.00  658.80  647.60  649.00\n",
              "3  12/20/2018  659.50  659.50  643.45  646.20\n",
              "4  12/19/2018  660.00  671.55  656.40  667.05"
            ]
          },
          "metadata": {
            "tags": []
          },
          "execution_count": 4
        }
      ]
    },
    {
      "cell_type": "markdown",
      "metadata": {
        "id": "ii6nZaDI7-20",
        "colab_type": "text"
      },
      "source": [
        "Import MinMaxScaler from scikit-learn to scale our dataset into numbers between 0 and 1 "
      ]
    },
    {
      "cell_type": "code",
      "metadata": {
        "id": "Ub32hsA4MIXz",
        "colab_type": "code",
        "colab": {}
      },
      "source": [
        "from sklearn.preprocessing import MinMaxScaler\n",
        "sc = MinMaxScaler(feature_range=(0,1))\n",
        "training_set_scaled = sc.fit_transform(training_set)"
      ],
      "execution_count": 0,
      "outputs": []
    },
    {
      "cell_type": "markdown",
      "metadata": {
        "id": "aqze-4Is8Rb_",
        "colab_type": "text"
      },
      "source": [
        "We want our data to be in the form of a 3D array for our LSTM model. First, we create data in 60 timesteps and convert it into an array using NumPy. Then, we convert the data into a 3D array with X_train samples, 60 timestamps, and one feature at each step."
      ]
    },
    {
      "cell_type": "code",
      "metadata": {
        "id": "qo7K06T2Mi_e",
        "colab_type": "code",
        "colab": {}
      },
      "source": [
        "X_train = []\n",
        "y_train = []\n",
        "for i in range(60, 927):\n",
        "    X_train.append(training_set_scaled[i-60:i, 0])\n",
        "    y_train.append(training_set_scaled[i, 0])\n",
        "X_train, y_train = np.array(X_train), np.array(y_train)\n",
        "\n",
        "X_train = np.reshape(X_train, (X_train.shape[0], X_train.shape[1], 1))"
      ],
      "execution_count": 0,
      "outputs": []
    },
    {
      "cell_type": "markdown",
      "metadata": {
        "id": "anIlTzKO-r74",
        "colab_type": "text"
      },
      "source": [
        "Make the necessary imports from keras"
      ]
    },
    {
      "cell_type": "code",
      "metadata": {
        "id": "TP9GVtb9Q-C9",
        "colab_type": "code",
        "outputId": "6fbacdc9-8b96-443b-936f-bc29f5cdede4",
        "colab": {
          "base_uri": "https://localhost:8080/",
          "height": 34
        }
      },
      "source": [
        "from keras.models import Sequential\n",
        "from keras.layers import LSTM\n",
        "from keras.layers import Dropout\n",
        "from keras.layers import Dense "
      ],
      "execution_count": 7,
      "outputs": [
        {
          "output_type": "stream",
          "text": [
            "Using TensorFlow backend.\n"
          ],
          "name": "stderr"
        }
      ]
    },
    {
      "cell_type": "markdown",
      "metadata": {
        "id": "hJrFWnOd-x2t",
        "colab_type": "text"
      },
      "source": [
        "Add LSTM layer along with dropout layers to prevent overfitting. After that, we add a Dense layer that specifies a one unit output. Next, we compile the model using the adam optimizer and set the loss as the mean_squarred_error"
      ]
    },
    {
      "cell_type": "code",
      "metadata": {
        "id": "CMKVOwBnRcOc",
        "colab_type": "code",
        "outputId": "c48e6591-cb1b-413e-e0c5-fda02cbf3c66",
        "colab": {
          "base_uri": "https://localhost:8080/",
          "height": 1000
        }
      },
      "source": [
        "model = Sequential()\n",
        "\n",
        "model.add(LSTM(units=50,return_sequences=True,input_shape=(X_train.shape[1], 1)))\n",
        "model.add(Dropout(0.2))\n",
        "\n",
        "model.add(LSTM(units=50,return_sequences=True))\n",
        "model.add(Dropout(0.2))\n",
        "\n",
        "model.add(LSTM(units=50,return_sequences=True))\n",
        "model.add(Dropout(0.2))\n",
        "\n",
        "model.add(LSTM(units=50))\n",
        "model.add(Dropout(0.2))\n",
        "\n",
        "model.add(Dense(units=1))\n",
        "\n",
        "model.compile(optimizer='adam',loss='mean_squared_error')\n",
        "\n",
        "model.fit(X_train,y_train,epochs=100,batch_size=32)"
      ],
      "execution_count": 8,
      "outputs": [
        {
          "output_type": "stream",
          "text": [
            "Epoch 1/100\n",
            "867/867 [==============================] - 6s 7ms/step - loss: 0.0216\n",
            "Epoch 2/100\n",
            "867/867 [==============================] - 4s 5ms/step - loss: 0.0090\n",
            "Epoch 3/100\n",
            "867/867 [==============================] - 4s 5ms/step - loss: 0.0073\n",
            "Epoch 4/100\n",
            "867/867 [==============================] - 4s 5ms/step - loss: 0.0064\n",
            "Epoch 5/100\n",
            "867/867 [==============================] - 4s 4ms/step - loss: 0.0064\n",
            "Epoch 6/100\n",
            "867/867 [==============================] - 4s 5ms/step - loss: 0.0055\n",
            "Epoch 7/100\n",
            "867/867 [==============================] - 4s 4ms/step - loss: 0.0055\n",
            "Epoch 8/100\n",
            "867/867 [==============================] - 4s 4ms/step - loss: 0.0050\n",
            "Epoch 9/100\n",
            "867/867 [==============================] - 4s 4ms/step - loss: 0.0046\n",
            "Epoch 10/100\n",
            "867/867 [==============================] - 4s 4ms/step - loss: 0.0043\n",
            "Epoch 11/100\n",
            "867/867 [==============================] - 4s 5ms/step - loss: 0.0043\n",
            "Epoch 12/100\n",
            "867/867 [==============================] - 4s 5ms/step - loss: 0.0042\n",
            "Epoch 13/100\n",
            "867/867 [==============================] - 4s 5ms/step - loss: 0.0046\n",
            "Epoch 14/100\n",
            "867/867 [==============================] - 4s 5ms/step - loss: 0.0037\n",
            "Epoch 15/100\n",
            "867/867 [==============================] - 4s 5ms/step - loss: 0.0039\n",
            "Epoch 16/100\n",
            "867/867 [==============================] - 4s 5ms/step - loss: 0.0037\n",
            "Epoch 17/100\n",
            "867/867 [==============================] - 4s 4ms/step - loss: 0.0040\n",
            "Epoch 18/100\n",
            "867/867 [==============================] - 4s 4ms/step - loss: 0.0036\n",
            "Epoch 19/100\n",
            "867/867 [==============================] - 4s 4ms/step - loss: 0.0036\n",
            "Epoch 20/100\n",
            "867/867 [==============================] - 4s 4ms/step - loss: 0.0034\n",
            "Epoch 21/100\n",
            "867/867 [==============================] - 4s 4ms/step - loss: 0.0034\n",
            "Epoch 22/100\n",
            "867/867 [==============================] - 4s 4ms/step - loss: 0.0033\n",
            "Epoch 23/100\n",
            "867/867 [==============================] - 4s 4ms/step - loss: 0.0033\n",
            "Epoch 24/100\n",
            "867/867 [==============================] - 4s 4ms/step - loss: 0.0030\n",
            "Epoch 25/100\n",
            "867/867 [==============================] - 4s 5ms/step - loss: 0.0029\n",
            "Epoch 26/100\n",
            "867/867 [==============================] - 4s 5ms/step - loss: 0.0038\n",
            "Epoch 27/100\n",
            "867/867 [==============================] - 4s 5ms/step - loss: 0.0029\n",
            "Epoch 28/100\n",
            "867/867 [==============================] - 4s 5ms/step - loss: 0.0030\n",
            "Epoch 29/100\n",
            "867/867 [==============================] - 4s 5ms/step - loss: 0.0027\n",
            "Epoch 30/100\n",
            "867/867 [==============================] - 4s 4ms/step - loss: 0.0028\n",
            "Epoch 31/100\n",
            "867/867 [==============================] - 4s 5ms/step - loss: 0.0029\n",
            "Epoch 32/100\n",
            "867/867 [==============================] - 4s 4ms/step - loss: 0.0026\n",
            "Epoch 33/100\n",
            "867/867 [==============================] - 4s 4ms/step - loss: 0.0026\n",
            "Epoch 34/100\n",
            "867/867 [==============================] - 4s 4ms/step - loss: 0.0025\n",
            "Epoch 35/100\n",
            "867/867 [==============================] - 4s 4ms/step - loss: 0.0034\n",
            "Epoch 36/100\n",
            "867/867 [==============================] - 4s 4ms/step - loss: 0.0024\n",
            "Epoch 37/100\n",
            "867/867 [==============================] - 4s 5ms/step - loss: 0.0023\n",
            "Epoch 38/100\n",
            "867/867 [==============================] - 4s 5ms/step - loss: 0.0024\n",
            "Epoch 39/100\n",
            "867/867 [==============================] - 4s 4ms/step - loss: 0.0024\n",
            "Epoch 40/100\n",
            "867/867 [==============================] - 4s 5ms/step - loss: 0.0025\n",
            "Epoch 41/100\n",
            "867/867 [==============================] - 4s 5ms/step - loss: 0.0023\n",
            "Epoch 42/100\n",
            "867/867 [==============================] - 4s 5ms/step - loss: 0.0023\n",
            "Epoch 43/100\n",
            "867/867 [==============================] - 4s 4ms/step - loss: 0.0023\n",
            "Epoch 44/100\n",
            "867/867 [==============================] - 4s 5ms/step - loss: 0.0024\n",
            "Epoch 45/100\n",
            "867/867 [==============================] - 4s 5ms/step - loss: 0.0023\n",
            "Epoch 46/100\n",
            "867/867 [==============================] - 4s 4ms/step - loss: 0.0022\n",
            "Epoch 47/100\n",
            "867/867 [==============================] - 4s 4ms/step - loss: 0.0024\n",
            "Epoch 48/100\n",
            "867/867 [==============================] - 4s 5ms/step - loss: 0.0024\n",
            "Epoch 49/100\n",
            "867/867 [==============================] - 4s 5ms/step - loss: 0.0021\n",
            "Epoch 50/100\n",
            "867/867 [==============================] - 4s 5ms/step - loss: 0.0019\n",
            "Epoch 51/100\n",
            "867/867 [==============================] - 4s 4ms/step - loss: 0.0019\n",
            "Epoch 52/100\n",
            "867/867 [==============================] - 4s 5ms/step - loss: 0.0020\n",
            "Epoch 53/100\n",
            "867/867 [==============================] - 4s 5ms/step - loss: 0.0020\n",
            "Epoch 54/100\n",
            "867/867 [==============================] - 4s 5ms/step - loss: 0.0021\n",
            "Epoch 55/100\n",
            "867/867 [==============================] - 4s 4ms/step - loss: 0.0019\n",
            "Epoch 56/100\n",
            "867/867 [==============================] - 4s 5ms/step - loss: 0.0019\n",
            "Epoch 57/100\n",
            "867/867 [==============================] - 4s 4ms/step - loss: 0.0019\n",
            "Epoch 58/100\n",
            "867/867 [==============================] - 4s 4ms/step - loss: 0.0018\n",
            "Epoch 59/100\n",
            "867/867 [==============================] - 4s 4ms/step - loss: 0.0017\n",
            "Epoch 60/100\n",
            "867/867 [==============================] - 4s 5ms/step - loss: 0.0018\n",
            "Epoch 61/100\n",
            "867/867 [==============================] - 4s 5ms/step - loss: 0.0018\n",
            "Epoch 62/100\n",
            "867/867 [==============================] - 4s 5ms/step - loss: 0.0018\n",
            "Epoch 63/100\n",
            "867/867 [==============================] - 4s 5ms/step - loss: 0.0016\n",
            "Epoch 64/100\n",
            "867/867 [==============================] - 4s 5ms/step - loss: 0.0019\n",
            "Epoch 65/100\n",
            "867/867 [==============================] - 4s 5ms/step - loss: 0.0017\n",
            "Epoch 66/100\n",
            "867/867 [==============================] - 4s 5ms/step - loss: 0.0017\n",
            "Epoch 67/100\n",
            "867/867 [==============================] - 4s 5ms/step - loss: 0.0015\n",
            "Epoch 68/100\n",
            "867/867 [==============================] - 4s 4ms/step - loss: 0.0016\n",
            "Epoch 69/100\n",
            "867/867 [==============================] - 4s 4ms/step - loss: 0.0017\n",
            "Epoch 70/100\n",
            "867/867 [==============================] - 4s 4ms/step - loss: 0.0016\n",
            "Epoch 71/100\n",
            "867/867 [==============================] - 4s 4ms/step - loss: 0.0015\n",
            "Epoch 72/100\n",
            "867/867 [==============================] - 4s 4ms/step - loss: 0.0015\n",
            "Epoch 73/100\n",
            "867/867 [==============================] - 4s 4ms/step - loss: 0.0015\n",
            "Epoch 74/100\n",
            "867/867 [==============================] - 4s 4ms/step - loss: 0.0014\n",
            "Epoch 75/100\n",
            "867/867 [==============================] - 4s 4ms/step - loss: 0.0014\n",
            "Epoch 76/100\n",
            "867/867 [==============================] - 4s 5ms/step - loss: 0.0016\n",
            "Epoch 77/100\n",
            "867/867 [==============================] - 4s 5ms/step - loss: 0.0014\n",
            "Epoch 78/100\n",
            "867/867 [==============================] - 4s 4ms/step - loss: 0.0013\n",
            "Epoch 79/100\n",
            "867/867 [==============================] - 4s 5ms/step - loss: 0.0014\n",
            "Epoch 80/100\n",
            "867/867 [==============================] - 4s 4ms/step - loss: 0.0016\n",
            "Epoch 81/100\n",
            "867/867 [==============================] - 4s 4ms/step - loss: 0.0021\n",
            "Epoch 82/100\n",
            "867/867 [==============================] - 4s 5ms/step - loss: 0.0016\n",
            "Epoch 83/100\n",
            "867/867 [==============================] - 4s 5ms/step - loss: 0.0015\n",
            "Epoch 84/100\n",
            "867/867 [==============================] - 4s 4ms/step - loss: 0.0014\n",
            "Epoch 85/100\n",
            "867/867 [==============================] - 4s 4ms/step - loss: 0.0015\n",
            "Epoch 86/100\n",
            "867/867 [==============================] - 4s 4ms/step - loss: 0.0014\n",
            "Epoch 87/100\n",
            "867/867 [==============================] - 4s 5ms/step - loss: 0.0012\n",
            "Epoch 88/100\n",
            "867/867 [==============================] - 4s 4ms/step - loss: 0.0013\n",
            "Epoch 89/100\n",
            "867/867 [==============================] - 4s 5ms/step - loss: 0.0016\n",
            "Epoch 90/100\n",
            "867/867 [==============================] - 4s 5ms/step - loss: 0.0013\n",
            "Epoch 91/100\n",
            "867/867 [==============================] - 4s 5ms/step - loss: 0.0013\n",
            "Epoch 92/100\n",
            "867/867 [==============================] - 4s 5ms/step - loss: 0.0015\n",
            "Epoch 93/100\n",
            "867/867 [==============================] - 4s 5ms/step - loss: 0.0012\n",
            "Epoch 94/100\n",
            "867/867 [==============================] - 4s 4ms/step - loss: 0.0017\n",
            "Epoch 95/100\n",
            "867/867 [==============================] - 4s 4ms/step - loss: 0.0013\n",
            "Epoch 96/100\n",
            "867/867 [==============================] - 4s 4ms/step - loss: 0.0013\n",
            "Epoch 97/100\n",
            "867/867 [==============================] - 4s 4ms/step - loss: 0.0013\n",
            "Epoch 98/100\n",
            "867/867 [==============================] - 4s 4ms/step - loss: 0.0012\n",
            "Epoch 99/100\n",
            "867/867 [==============================] - 4s 4ms/step - loss: 0.0014\n",
            "Epoch 100/100\n",
            "867/867 [==============================] - 4s 4ms/step - loss: 0.0012\n"
          ],
          "name": "stdout"
        },
        {
          "output_type": "execute_result",
          "data": {
            "text/plain": [
              "<keras.callbacks.callbacks.History at 0x7f401d2be400>"
            ]
          },
          "metadata": {
            "tags": []
          },
          "execution_count": 8
        }
      ]
    },
    {
      "cell_type": "markdown",
      "metadata": {
        "id": "N7_w_7x-A44v",
        "colab_type": "text"
      },
      "source": [
        "Import the test set for the model to make predictions on "
      ]
    },
    {
      "cell_type": "code",
      "metadata": {
        "id": "ns2TngWrUaz5",
        "colab_type": "code",
        "colab": {}
      },
      "source": [
        "#url = 'https://raw.githubusercontent.com/mwitiderrick/stockprice/master/tatatest.csv'\n",
        "url = \"/content/drive/My Drive/Colab Notebooks/ML_Testing/infosys_test.csv\"\n",
        "dataset_test = pd.read_csv(url)\n",
        "\n",
        "real_stock_price = dataset_test.iloc[:, 1:2].values"
      ],
      "execution_count": 0,
      "outputs": []
    },
    {
      "cell_type": "markdown",
      "metadata": {
        "id": "WXGKvoo6BAyd",
        "colab_type": "text"
      },
      "source": [
        "Before predicting future stock prices, we have to manipulate the training set; we merge the training set and the test set on the 0 axis, set the time step to 60, use minmaxscaler, and reshape the dataset as done previously. After making predictions, we use inverse_transform to get back the stock prices in normal readable format.\n"
      ]
    },
    {
      "cell_type": "code",
      "metadata": {
        "id": "SXcfDWpozpRj",
        "colab_type": "code",
        "outputId": "178ef9a9-7ea3-4444-ab99-e84e5dfbead4",
        "colab": {
          "base_uri": "https://localhost:8080/",
          "height": 204
        }
      },
      "source": [
        "dataset_test.head()"
      ],
      "execution_count": 10,
      "outputs": [
        {
          "output_type": "execute_result",
          "data": {
            "text/html": [
              "<div>\n",
              "<style scoped>\n",
              "    .dataframe tbody tr th:only-of-type {\n",
              "        vertical-align: middle;\n",
              "    }\n",
              "\n",
              "    .dataframe tbody tr th {\n",
              "        vertical-align: top;\n",
              "    }\n",
              "\n",
              "    .dataframe thead th {\n",
              "        text-align: right;\n",
              "    }\n",
              "</style>\n",
              "<table border=\"1\" class=\"dataframe\">\n",
              "  <thead>\n",
              "    <tr style=\"text-align: right;\">\n",
              "      <th></th>\n",
              "      <th>Date</th>\n",
              "      <th>Open</th>\n",
              "      <th>High</th>\n",
              "      <th>Low</th>\n",
              "      <th>Close</th>\n",
              "    </tr>\n",
              "  </thead>\n",
              "  <tbody>\n",
              "    <tr>\n",
              "      <th>0</th>\n",
              "      <td>12/31/2019</td>\n",
              "      <td>729.70</td>\n",
              "      <td>737.75</td>\n",
              "      <td>725.45</td>\n",
              "      <td>731.15</td>\n",
              "    </tr>\n",
              "    <tr>\n",
              "      <th>1</th>\n",
              "      <td>12/30/2019</td>\n",
              "      <td>736.10</td>\n",
              "      <td>737.95</td>\n",
              "      <td>727.25</td>\n",
              "      <td>732.90</td>\n",
              "    </tr>\n",
              "    <tr>\n",
              "      <th>2</th>\n",
              "      <td>12/27/2019</td>\n",
              "      <td>729.75</td>\n",
              "      <td>737.50</td>\n",
              "      <td>728.85</td>\n",
              "      <td>736.95</td>\n",
              "    </tr>\n",
              "    <tr>\n",
              "      <th>3</th>\n",
              "      <td>12/26/2019</td>\n",
              "      <td>732.00</td>\n",
              "      <td>734.55</td>\n",
              "      <td>726.55</td>\n",
              "      <td>728.95</td>\n",
              "    </tr>\n",
              "    <tr>\n",
              "      <th>4</th>\n",
              "      <td>12/24/2019</td>\n",
              "      <td>736.95</td>\n",
              "      <td>736.95</td>\n",
              "      <td>728.30</td>\n",
              "      <td>733.40</td>\n",
              "    </tr>\n",
              "  </tbody>\n",
              "</table>\n",
              "</div>"
            ],
            "text/plain": [
              "         Date    Open    High     Low   Close\n",
              "0  12/31/2019  729.70  737.75  725.45  731.15\n",
              "1  12/30/2019  736.10  737.95  727.25  732.90\n",
              "2  12/27/2019  729.75  737.50  728.85  736.95\n",
              "3  12/26/2019  732.00  734.55  726.55  728.95\n",
              "4  12/24/2019  736.95  736.95  728.30  733.40"
            ]
          },
          "metadata": {
            "tags": []
          },
          "execution_count": 10
        }
      ]
    },
    {
      "cell_type": "code",
      "metadata": {
        "id": "pBbdst_BV_PB",
        "colab_type": "code",
        "outputId": "b6df1236-cec4-4f41-f0bc-8fa4e0ad0b6b",
        "colab": {
          "base_uri": "https://localhost:8080/",
          "height": 34
        }
      },
      "source": [
        "dataset_total = pd.concat((dataset_train['Open'], dataset_test['Open']), axis = 0)\n",
        "inputs = dataset_total[len(dataset_total) - len(dataset_test) - 60:].values\n",
        "inputs = inputs.reshape(-1,1)\n",
        "inputs = sc.transform(inputs)\n",
        "X_test = []\n",
        "for i in range(60, 308):\n",
        "    X_test.append(inputs[i-60:i, 0])\n",
        "X_test = np.array(X_test)\n",
        "X_test = np.reshape(X_test, (X_test.shape[0], X_test.shape[1], 1))\n",
        "predicted_stock_price = model.predict(X_test)\n",
        "predicted_stock_price = sc.inverse_transform(predicted_stock_price)\n",
        "print('Done', inputs.size,X_test.size)"
      ],
      "execution_count": 11,
      "outputs": [
        {
          "output_type": "stream",
          "text": [
            "Done 309 14880\n"
          ],
          "name": "stdout"
        }
      ]
    },
    {
      "cell_type": "markdown",
      "metadata": {
        "id": "BAj_a3n0B3nz",
        "colab_type": "text"
      },
      "source": [
        "Plot our predicted stock prices and the actual stock price"
      ]
    },
    {
      "cell_type": "code",
      "metadata": {
        "id": "czWvnIANYSqI",
        "colab_type": "code",
        "outputId": "c514e8f2-0c86-496c-8df4-c6e6d34ccbe2",
        "colab": {
          "base_uri": "https://localhost:8080/",
          "height": 295
        }
      },
      "source": [
        "plt.plot(real_stock_price, color = 'black', label = 'Infosys Stock Price')\n",
        "plt.plot(predicted_stock_price, color = 'green', label = 'Predicted Infosys Stock Price')\n",
        "plt.title('Infosys Stock Price Prediction')\n",
        "plt.xlabel('Time')\n",
        "plt.ylabel('Infosys Stock Price')\n",
        "plt.legend()\n",
        "plt.show()"
      ],
      "execution_count": 13,
      "outputs": [
        {
          "output_type": "display_data",
          "data": {
            "image/png": "[encoded data removed]",
            "text/plain": [
              "<Figure size 432x288 with 1 Axes>"
            ]
          },
          "metadata": {
            "tags": [],
            "needs_background": "light"
          }
        }
      ]
    }
  ]
}
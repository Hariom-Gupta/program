{
  "nbformat": 4,
  "nbformat_minor": 0,
  "metadata": {
    "colab": {
      "name": "MovingAverage.ipynb",
      "provenance": [],
      "mount_file_id": "15FKFIG6ezJvZSXxvqOSGctFP-woLVGpg",
      "authorship_tag": "ABX9TyN6sLZGL9PwHMy5i9Bm/0IX",
      "include_colab_link": true
    },
    "kernelspec": {
      "name": "python3",
      "display_name": "Python 3"
    }
  },
  "cells": [
    {
      "cell_type": "markdown",
      "metadata": {
        "id": "view-in-github",
        "colab_type": "text"
      },
      "source": [
        "<a href=\"https://colab.research.google.com/github/Hariom-Gupta/program/blob/master/MovingAverage.ipynb\" target=\"_parent\"><img src=\"https://colab.research.google.com/assets/colab-badge.svg\" alt=\"Open In Colab\"/></a>"
      ]
    },
    {
      "cell_type": "markdown",
      "metadata": {
        "id": "vcYbrC-4UEZ3",
        "colab_type": "text"
      },
      "source": [
        "# ***Moving Average ***\n",
        "\n",
        "\n",
        "‘Average’ is easily one of the most common things we use in our day-to-day lives. For instance, calculating the average marks to determine overall performance, or finding the average temperature of the past few days to get an idea about today’s temperature – these all are routine tasks we do on a regular basis. So this is a good starting point to use on our dataset for making predictions.\n",
        "\n",
        "The predicted closing price for each day will be the average of a set of previously observed values. Instead of using the simple average, we will be using the moving average technique which uses the latest set of values for each prediction. In other words, for each subsequent step, the predicted values are taken into consideration while removing the oldest observed value from the set. Here is a simple figure that will help you understand this with more clarity."
      ]
    },
    {
      "cell_type": "code",
      "metadata": {
        "id": "oQPnCn34DRSF",
        "colab_type": "code",
        "colab": {
          "base_uri": "https://localhost:8080/",
          "height": 323
        },
        "outputId": "36ed5c80-129f-4c04-816a-71c79a4de2ae"
      },
      "source": [
        "# importing libraries\n",
        "import pandas as pd\n",
        "import numpy as np\n",
        "\n",
        "# reading the data\n",
        "df = pd.read_csv('/content/drive/My Drive/Colab Notebooks/ML_Testing/data_moving_average.csv')\n",
        "\n",
        "# looking at the first five rows of the data\n",
        "print(df.head())\n",
        "print('\\n Shape of the data:')\n",
        "print(df.shape)\n",
        "\n",
        "# setting the index as date\n",
        "df['Date'] = pd.to_datetime(df.Date,format='%Y-%m-%d')\n",
        "df.index = df['Date']\n",
        "\n",
        "#creating dataframe with date and the target variable\n",
        "data = df.sort_index(ascending=True, axis=0)\n",
        "new_data = pd.DataFrame(index=range(0,len(df)),columns=['Date', 'Close'])\n",
        "\n",
        "for i in range(0,len(data)):\n",
        "     new_data['Date'][i] = data['Date'][i]\n",
        "     new_data['Close'][i] = data['Close'][i]\n",
        "\n",
        "# NOTE: While splitting the data into train and validation set, we cannot use random splitting since that will destroy the time component. So here we have set the last year’s data into validation and the 4 years’ data before that into train set.\n",
        "\n",
        "# splitting into train and validation\n",
        "train = new_data[:987]\n",
        "valid = new_data[987:]\n",
        "\n",
        "# shapes of training set\n",
        "print('\\n Shape of training set:')\n",
        "print(train.shape)\n",
        "\n",
        "# shapes of validation set\n",
        "print('\\n Shape of validation set:')\n",
        "print(valid.shape)\n",
        "\n",
        "# In the next step, we will create predictions for the validation set and check the RMSE using the actual values.\n",
        "# making predictions\n",
        "preds = []\n",
        "for i in range(0,valid.shape[0]):\n",
        "    a = train['Close'][len(train)-248+i:].sum() + sum(preds)\n",
        "    b = a/248\n",
        "    preds.append(b)\n",
        "\n",
        "# checking the results (RMSE value)\n",
        "rms=np.sqrt(np.mean(np.power((np.array(valid['Close'])-preds),2)))\n",
        "print('\\n RMSE value on validation set:')\n",
        "print(rms)\n",
        "\n",
        "\n",
        "\n"
      ],
      "execution_count": 3,
      "outputs": [
        {
          "output_type": "stream",
          "text": [
            "         Date    Open    High     Low   Close\n",
            "0  2019-12-31  247.70  248.60  245.30  245.80\n",
            "1  2019-12-30  248.45  249.55  246.60  248.95\n",
            "2  2019-12-27  250.00  250.75  246.35  247.55\n",
            "3  2019-12-26  252.00  252.40  249.55  250.30\n",
            "4  2019-12-24  253.00  253.95  251.10  252.25\n",
            "\n",
            " Shape of the data:\n",
            "(1235, 5)\n",
            "\n",
            " Shape of training set:\n",
            "(987, 2)\n",
            "\n",
            " Shape of validation set:\n",
            "(248, 2)\n",
            "\n",
            " RMSE value on validation set:\n",
            "48.14248001130685\n"
          ],
          "name": "stdout"
        }
      ]
    },
    {
      "cell_type": "markdown",
      "metadata": {
        "id": "pYQpqmzJaOtS",
        "colab_type": "text"
      },
      "source": [
        "Let’s visualize this to get a more intuitive understanding. So here is a plot of the predicted values along with the actual values.\n"
      ]
    },
    {
      "cell_type": "code",
      "metadata": {
        "id": "DJ9ljlDSDeQK",
        "colab_type": "code",
        "colab": {
          "base_uri": "https://localhost:8080/",
          "height": 519
        },
        "outputId": "8379ad2f-c414-45e5-ef48-89b22492cd6c"
      },
      "source": [
        "import os\n",
        "import matplotlib.pyplot as plt\n",
        "#plot\n",
        "valid['Predictions'] = 0\n",
        "valid['Predictions'] = preds\n",
        "#plt.plot(train['Close'], color = 'black', label = 'Infy Stock Price')\n",
        "plt.plot(valid['Close'], color = 'green', label = 'Infy Stock Price')\n",
        "plt.plot(valid['Predictions'], color = 'red', label = 'Infy Predictions Stock Price')\n",
        "plt.title('INFY Stock Price Prediction')\n",
        "plt.xlabel('Time')\n",
        "plt.ylabel('INFY Stock Price')\n",
        "plt.legend()\n",
        "plt.show()\n",
        "#plt.savefig(os.path.join(\"/content/drive/My Drive/Colab Notebooks/ML_Testing/\", 'moving_average'+str(BATCH_SIZE)+'.jpg'))"
      ],
      "execution_count": 5,
      "outputs": [
        {
          "output_type": "stream",
          "text": [
            "/usr/local/lib/python3.6/dist-packages/ipykernel_launcher.py:4: SettingWithCopyWarning: \n",
            "A value is trying to be set on a copy of a slice from a DataFrame.\n",
            "Try using .loc[row_indexer,col_indexer] = value instead\n",
            "\n",
            "See the caveats in the documentation: https://pandas.pydata.org/pandas-docs/stable/user_guide/indexing.html#returning-a-view-versus-a-copy\n",
            "  after removing the cwd from sys.path.\n",
            "/usr/local/lib/python3.6/dist-packages/ipykernel_launcher.py:5: SettingWithCopyWarning: \n",
            "A value is trying to be set on a copy of a slice from a DataFrame.\n",
            "Try using .loc[row_indexer,col_indexer] = value instead\n",
            "\n",
            "See the caveats in the documentation: https://pandas.pydata.org/pandas-docs/stable/user_guide/indexing.html#returning-a-view-versus-a-copy\n",
            "  \"\"\"\n"
          ],
          "name": "stderr"
        },
        {
          "output_type": "display_data",
          "data": {
            "image/png": "[encoded data removed]",
            "text/plain": [
              "<Figure size 432x288 with 1 Axes>"
            ]
          },
          "metadata": {
            "tags": [],
            "needs_background": "light"
          }
        }
      ]
    }
  ]
}